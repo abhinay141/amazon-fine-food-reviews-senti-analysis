{
 "cells": [
  {
   "cell_type": "code",
   "execution_count": 31,
   "metadata": {},
   "outputs": [],
   "source": [
    "import warnings\n",
    "warnings.filterwarnings(\"ignore\")\n",
    "%matplotlib inline\n",
    "import sqlite3\n",
    "import pandas as pd\n",
    "import numpy as np\n",
    "import seaborn as sns\n",
    "import nltk\n",
    "import string\n",
    "import matplotlib.pyplot as plt\n",
    "import seaborn as sns\n",
    "from sklearn.feature_extraction.text import TfidfTransformer\n",
    "from sklearn.feature_extraction.text import TfidfVectorizer\n",
    "from gensim.models import Word2Vec\n",
    "from gensim.models import KeyedVectors\n",
    "\n",
    "from sklearn.feature_extraction.text import CountVectorizer\n",
    "from sklearn.metrics import confusion_matrix\n",
    "from sklearn import metrics\n",
    "from sklearn.metrics import roc_curve, auc\n",
    "from nltk.stem.porter import PorterStemmer\n",
    "from sklearn.cross_validation import train_test_split\n",
    "from sklearn import cross_validation\n",
    "from sklearn.neighbors import KNeighborsClassifier\n",
    "from sklearn.cross_validation import cross_val_score\n",
    "from sklearn.metrics import accuracy_score\n",
    "from sklearn.naive_bayes import BernoulliNB\n",
    "from sklearn.metrics import classification_report\n",
    "from sklearn.metrics import confusion_matrix\n",
    "from sklearn.metrics import f1_score\n",
    "from sklearn.neighbors import KDTree\n",
    "import re\n",
    "import string\n",
    "from nltk.corpus import stopwords\n",
    "from nltk.stem import PorterStemmer\n",
    "from nltk.stem.wordnet import WordNetLemmatizer\n",
    "from tqdm import tqdm\n",
    "from scipy import sparse\n",
    "import itable\n",
    "from imblearn.over_sampling import RandomOverSampler\n",
    "from collections import Counter\n",
    "plt.style.use('seaborn-whitegrid')"
   ]
  },
  {
   "cell_type": "code",
   "execution_count": 2,
   "metadata": {},
   "outputs": [],
   "source": [
    "df=pd.read_csv('train.csv')\n",
    "cv=pd.read_csv('cv.csv')\n",
    "test=pd.read_csv('test.csv')"
   ]
  },
  {
   "cell_type": "code",
   "execution_count": 3,
   "metadata": {},
   "outputs": [],
   "source": [
    "count_vect= CountVectorizer()\n",
    "bow=count_vect.fit_transform(df['cleaned_text'].values)"
   ]
  },
  {
   "cell_type": "code",
   "execution_count": 19,
   "metadata": {},
   "outputs": [
    {
     "name": "stdout",
     "output_type": "stream",
     "text": [
      "[(0, 17260), (1, 17260)]\n"
     ]
    }
   ],
   "source": [
    "#bow classification\n",
    "ros = RandomOverSampler(random_state=0)\n",
    "X=sparse.load_npz('bow_cv.npz')\n",
    "y=cv['Score']\n",
    "X_resampled, y_resampled=ros.fit_sample(X,y)\n",
    "print(sorted(Counter(y_resampled).items()))"
   ]
  },
  {
   "cell_type": "code",
   "execution_count": 39,
   "metadata": {},
   "outputs": [
    {
     "data": {
      "text/plain": [
       "<ErrorbarContainer object of 3 artists>"
      ]
     },
     "execution_count": 39,
     "metadata": {},
     "output_type": "execute_result"
    },
    {
     "data": {
      "image/png": "[encoded data removed]",
      "text/plain": [
       "<Figure size 432x288 with 1 Axes>"
      ]
     },
     "metadata": {},
     "output_type": "display_data"
    }
   ],
   "source": [
    "X_1, X_test, y_1, y_test = cross_validation.train_test_split(X, y, test_size=0.3, random_state=0)\n",
    "# split the train data set into cross validation train and cross validation test\n",
    "X_tr, X_cv, y_tr, y_cv = cross_validation.train_test_split(X_1, y_1, test_size=0.3)\n",
    "b_error=[]\n",
    "k=[1,3,5,7,9,11,13,15,17,19,21,23,25,27,29]\n",
    "for i in range(1,30,2):\n",
    "    # instantiate learning model (k = 30)\n",
    "    knn = KNeighborsClassifier(n_neighbors=i)\n",
    "\n",
    "    # fitting the model on crossvalidation train\n",
    "    knn.fit(X_tr, y_tr)\n",
    "\n",
    "    # predict the response on the crossvalidation train\n",
    "    pred = knn.predict(X_cv)\n",
    "\n",
    "    # evaluate CV accuracy\n",
    "    acc = accuracy_score(y_cv, pred, normalize=True) * float(100)\n",
    "    f1=f1_score(y_cv,pred, average='weighted') * float(100)\n",
    "    b_error.append(f1)\n",
    "\n",
    "dy=0.8\n",
    "b_error=np.array(b_error)\n",
    "k=np.array(k)\n",
    "plt.errorbar(k,b_error ,yerr=dy, fmt='.k')    \n",
    "\n",
    "    \n"
   ]
  },
  {
   "cell_type": "code",
   "execution_count": 26,
   "metadata": {},
   "outputs": [
    {
     "name": "stdout",
     "output_type": "stream",
     "text": [
      "\n",
      "****Test accuracy for k = 5 is 87%\n",
      "\n",
      " f1-score for k=5 is 86%\n",
      "[[4286  118]\n",
      " [ 938 3288]]\n"
     ]
    },
    {
     "data": {
      "text/plain": [
       "<matplotlib.axes._subplots.AxesSubplot at 0x21f07ebec88>"
      ]
     },
     "execution_count": 26,
     "metadata": {},
     "output_type": "execute_result"
    },
    {
     "data": {
      "image/png": "[encoded data removed]",
      "text/plain": [
       "<Figure size 720x504 with 2 Axes>"
      ]
     },
     "metadata": {
      "needs_background": "light"
     },
     "output_type": "display_data"
    }
   ],
   "source": [
    "bw_X = sparse.load_npz('bow_test.npz')\n",
    "bw_y= test['Score']\n",
    "bwX_resampled, bwy_resampled=ros.fit_sample(X,y)\n",
    "X_train_bw,X_test_bw,y_train_bw,y_test_bw = train_test_split(bwX_resampled, bwy_resampled, random_state=0)\n",
    "knn = KNeighborsClassifier(3)\n",
    "knn.fit(X_train_bw,y_train_bw)\n",
    "pred = knn.predict(X_test_bw)\n",
    "acc = accuracy_score(y_test_bw, pred, normalize=True) * float(100)\n",
    "f1=f1_score(y_test_bw,pred) * float(100)\n",
    "print('\\n****Test accuracy for k = 5 is %d%%' % (acc))\n",
    "print('\\n f1-score for k=5 is %d%%' %(f1))\n",
    "cm_bw= metrics.confusion_matrix(y_test_bw,pred)\n",
    "print(cm_bw)\n",
    "df_bw = pd.DataFrame(cm_bw, index = [i for i in \"01\"],\n",
    "                  columns = [i for i in \"01\"])\n",
    "plt.figure(figsize = (10,7))\n",
    "sns.heatmap(df_bw, annot=True)"
   ]
  },
  {
   "cell_type": "code",
   "execution_count": 37,
   "metadata": {},
   "outputs": [
    {
     "data": {
      "text/plain": [
       "<ErrorbarContainer object of 3 artists>"
      ]
     },
     "execution_count": 37,
     "metadata": {},
     "output_type": "execute_result"
    },
    {
     "data": {
      "image/png": "[encoded data removed]",
      "text/plain": [
       "<Figure size 432x288 with 1 Axes>"
      ]
     },
     "metadata": {},
     "output_type": "display_data"
    }
   ],
   "source": [
    "#TF-IDF\n",
    "\n",
    "X_tf_idf=sparse.load_npz('tf_cv2.npz')\n",
    "y_tf_idf=cv['Score']\n",
    "tfX_resampled, tfy_resampled=ros.fit_sample(X,y)\n",
    "X_tf, X_test_tf, y_tf, y_test_tf = cross_validation.train_test_split(tfX_resampled, tfy_resampled, test_size=0.3, random_state=0)\n",
    "# split the train data set into cross validation train and cross validation test\n",
    "X_tr_tf, X_cv_tf, y_tr_tf, y_cv_tf = cross_validation.train_test_split(X_tf, y_tf, test_size=0.3)\n",
    "tf_error=[]\n",
    "k=[1,3,5,7,9,11,13,15,17,19,21,23,25,27,29]\n",
    "for i in range(1,30,2):\n",
    "    # instantiate learning model (k = 30)\n",
    "    knn = KNeighborsClassifier(n_neighbors=i)\n",
    "\n",
    "    # fitting the model on crossvalidation train\n",
    "    knn.fit(X_tr_tf, y_tr_tf)\n",
    "\n",
    "    # predict the response on the crossvalidation train\n",
    "    pred_id = knn.predict(X_cv_tf)\n",
    "\n",
    "    # evaluate CV accuracy\n",
    "    f1=f1_score(y_cv_tf,pred_id, average='weighted') * float(100)\n",
    "    tf_error.append(f1)\n",
    "dy=0.8\n",
    "tf_error=np.array(tf_error)\n",
    "k=np.array(k)\n",
    "plt.errorbar(k,bw_error ,yerr=dy, fmt='.k')    \n"
   ]
  },
  {
   "cell_type": "code",
   "execution_count": 25,
   "metadata": {},
   "outputs": [
    {
     "name": "stdout",
     "output_type": "stream",
     "text": [
      "\n",
      "****Test accuracy for k = 1 is 72%\n",
      "\n",
      " f1-score for k=2 is 72%\n",
      "[[4328   23]\n",
      " [ 463 3847]]\n"
     ]
    },
    {
     "data": {
      "text/plain": [
       "<matplotlib.axes._subplots.AxesSubplot at 0x21f07580550>"
      ]
     },
     "execution_count": 25,
     "metadata": {},
     "output_type": "execute_result"
    },
    {
     "data": {
      "image/png": "[encoded data removed]",
      "text/plain": [
       "<Figure size 720x504 with 2 Axes>"
      ]
     },
     "metadata": {
      "needs_background": "light"
     },
     "output_type": "display_data"
    }
   ],
   "source": [
    "test_idf_vector=sparse.load_npz('tf_test.npz')\n",
    "test_idf_label=test['Score']\n",
    "tfX_resampled1, tfy_resampled2=ros.fit_sample(test_idf_vector,test_idf_label)\n",
    "X_train_idf_vector, X_test_idf_vector,y_train_idf_label,y_test_idf_label= train_test_split(tfX_resampled1, tfy_resampled2,random_state=0)\n",
    "knn = KNeighborsClassifier(1)\n",
    "knn.fit(X_train_idf_vector,y_train_idf_label)\n",
    "pred_idf = knn.predict(X_test_idf_vector)\n",
    "acc_idf = accuracy_score(y_test_idf_label, pred_idf, normalize=True) * float(100)\n",
    "f1_idf=f1_score(y_test_idf_label,pred_idf) * float(100)\n",
    "print('\\n****Test accuracy for k = 1 is %d%%' % (acc))\n",
    "print('\\n f1-score for k=1 is %d%%' %(f1))\n",
    "cm_idf= metrics.confusion_matrix(y_test_idf_label,pred_idf)\n",
    "print(cm_idf)\n",
    "df_idf = pd.DataFrame(cm_idf, index = [i for i in \"01\"],\n",
    "                  columns = [i for i in \"01\"])\n",
    "plt.figure(figsize = (10,7))\n",
    "sns.heatmap(df_idf, annot=True)"
   ]
  },
  {
   "cell_type": "code",
   "execution_count": 36,
   "metadata": {},
   "outputs": [
    {
     "data": {
      "text/plain": [
       "<ErrorbarContainer object of 3 artists>"
      ]
     },
     "execution_count": 36,
     "metadata": {},
     "output_type": "execute_result"
    },
    {
     "data": {
      "image/png": "[encoded data removed]",
      "text/plain": [
       "<Figure size 432x288 with 1 Axes>"
      ]
     },
     "metadata": {},
     "output_type": "display_data"
    }
   ],
   "source": [
    "#w2v model\n",
    "X_w2=pd.read_csv('w2v_cv.csv')\n",
    "y_w2=pd.DataFrame(cv['Score'])\n",
    "y_w2= y_w2.iloc[: -1]\n",
    "w2X_resampled1, w2y_resampled2=ros.fit_sample(X_w2,y_w2)\n",
    "\n",
    "X_train_w2, X_test_w2, y_train_w2, y_test_w2 = cross_validation.train_test_split(w2X_resampled1, w2y_resampled2, test_size=0.3, random_state=0)\n",
    "# split the train data set into cross validation train and cross validation test\n",
    "X_tr_w2, X_cv_w2, y_tr_w2, y_cv_w2 = cross_validation.train_test_split(X_train_w2, y_train_w2, test_size=0.3)\n",
    "tf_f1=[]\n",
    "k_tf=[1,3,5,7,9,11,13,15,17,19,21,23,25,27,29]\n",
    "for i in range(1,30,2):\n",
    "    # instantiate learning model (k = 30)\n",
    "    knn = KNeighborsClassifier(n_neighbors=i)\n",
    "\n",
    "    # fitting the model on crossvalidation train\n",
    "    knn.fit(X_tr_w2, y_tr_w2)\n",
    "\n",
    "    # predict the response on the crossvalidation train\n",
    "    pred_w2 = knn.predict(X_cv_w2)\n",
    "\n",
    "    # evaluate CV accuracy\n",
    "    acc_w2 = accuracy_score(y_cv_w2, pred_w2, normalize=True) * float(100)\n",
    "    f1_w2=f1_score(y_cv_w2,pred_w2, average='weighted') * float(100)\n",
    "    tf_f1.append(f1)\n",
    "dy=0.8\n",
    "tf_f1=np.array(tf_f1)\n",
    "k_tf=np.array(k_tf)\n",
    "plt.errorbar(k_tf,tf_f1 ,yerr=dy, fmt='.k')  \n",
    "    \n",
    "\n"
   ]
  },
  {
   "cell_type": "code",
   "execution_count": 29,
   "metadata": {},
   "outputs": [
    {
     "name": "stdout",
     "output_type": "stream",
     "text": [
      "\n",
      "****Test accuracy for k = 1 is 90%\n",
      "\n",
      " f1-score for k=1 is 89%\n",
      "[[4328   23]\n",
      " [ 770 3540]]\n"
     ]
    },
    {
     "data": {
      "text/plain": [
       "<matplotlib.axes._subplots.AxesSubplot at 0x21f067cb5f8>"
      ]
     },
     "execution_count": 29,
     "metadata": {},
     "output_type": "execute_result"
    },
    {
     "data": {
      "image/png": "[encoded data removed]",
      "text/plain": [
       "<Figure size 720x504 with 2 Axes>"
      ]
     },
     "metadata": {
      "needs_background": "light"
     },
     "output_type": "display_data"
    }
   ],
   "source": [
    "X_w=pd.read_csv('w2v_test.csv')\n",
    "y_w=test['Score']\n",
    "w2X_resampled3, w2y_resampled4=ros.fit_sample(X_w,y_w)\n",
    "X_train_w, X_test_w,y_train_w,y_test_w= train_test_split(w2X_resampled3, w2y_resampled4,random_state=0)\n",
    "knn = KNeighborsClassifier(1)\n",
    "knn.fit(X_train_w,y_train_w)\n",
    "pred_w= knn.predict(X_test_w)\n",
    "acc_w = accuracy_score(y_test_w, pred_w, normalize=True) * float(100)\n",
    "f1_w=f1_score(y_test_w,pred_w) * float(100)\n",
    "print('\\n****Test accuracy for k = 1 is %d%%' % (acc_w))\n",
    "print('\\n f1-score for k=1 is %d%%' %(f1_w))\n",
    "cm_w= metrics.confusion_matrix(y_test_w,pred_w)\n",
    "print(cm_w)\n",
    "df_w = pd.DataFrame(cm_w, index = [i for i in \"01\"],\n",
    "                  columns = [i for i in \"01\"])\n",
    "plt.figure(figsize = (10,7))\n",
    "sns.heatmap(df_w, annot=True)"
   ]
  },
  {
   "cell_type": "code",
   "execution_count": 11,
   "metadata": {},
   "outputs": [],
   "source": [
    "#kd-tree for train -data\n",
    "bow_kd=pd.read_csv('train.csv')\n",
    "bow_kd=bow_kd.iloc[0:20000, :]\n",
    "c_vect= CountVectorizer(max_features=100, min_df=10)\n",
    "kdb_sp=c_vect.fit_transform(bow_kd['cleaned_text'].values)\n",
    "X=kdb_sp.todense()\n"
   ]
  },
  {
   "cell_type": "code",
   "execution_count": 12,
   "metadata": {},
   "outputs": [
    {
     "name": "stdout",
     "output_type": "stream",
     "text": [
      "[[    0  4767]\n",
      " [    1  4479]\n",
      " [16689     2]\n",
      " ...\n",
      " [19997  2198]\n",
      " [19998  1453]\n",
      " [19999  8314]]\n"
     ]
    }
   ],
   "source": [
    "kdt = KDTree(X, leaf_size=2, metric='euclidean')\n",
    "print(kdt.query(X, k=2, return_distance=False) )"
   ]
  },
  {
   "cell_type": "code",
   "execution_count": 30,
   "metadata": {},
   "outputs": [
    {
     "data": {
      "text/html": [
       "<table style=\"\"><tr style=\"\"><td style=\"\">f1-score</td><td style=\"\">hyper-parameter</td><td style=\"\">model</td><td style=\"\">vectorizer</td></tr><tr style=\"\"><td style=\"\">86</td><td style=\"\">5</td><td style=\"\">brute</td><td style=\"\">bow</td></tr><tr style=\"\"><td style=\"\">72</td><td style=\"\">1</td><td style=\"\">brute</td><td style=\"\">tf-idf</td></tr><tr style=\"\"><td style=\"\">89</td><td style=\"\">1</td><td style=\"\">brute</td><td style=\"\">avg-w2v</td></tr><tr style=\"\"><td style=\"\">NA</td><td style=\"\">NA</td><td style=\"\">kd-tree</td><td style=\"\">train-data</td></tr></table>"
      ],
      "text/plain": [
       "<itable.itable.PrettyTable at 0x21f067b9940>"
      ]
     },
     "execution_count": 30,
     "metadata": {},
     "output_type": "execute_result"
    }
   ],
   "source": [
    "conclusion = pd.DataFrame({\"f1-score\":[86,72,89,\"NA\"], \"hyper-parameter\":[5,1,1,\"NA\"], \"model\":[\"brute\",\"brute\",\"brute\",\"kd-tree\"], \"vectorizer\":[\"bow\",\"tf-idf\",\"avg-w2v\",\"train-data\"]})\n",
    "itable.PrettyTable(conclusion)"
   ]
  },
  {
   "cell_type": "code",
   "execution_count": null,
   "metadata": {},
   "outputs": [],
   "source": []
  }
 ],
 "metadata": {
  "kernelspec": {
   "display_name": "Python 3",
   "language": "python",
   "name": "python3"
  },
  "language_info": {
   "codemirror_mode": {
    "name": "ipython",
    "version": 3
   },
   "file_extension": ".py",
   "mimetype": "text/x-python",
   "name": "python",
   "nbconvert_exporter": "python",
   "pygments_lexer": "ipython3",
   "version": "3.7.0"
  }
 },
 "nbformat": 4,
 "nbformat_minor": 2
}
